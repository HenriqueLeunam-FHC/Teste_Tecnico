{
 "cells": [
  {
   "cell_type": "markdown",
   "id": "34038e94",
   "metadata": {},
   "source": [
    "## Teste Técnico - Analista de BI Karhub"
   ]
  },
  {
   "cell_type": "markdown",
   "id": "a72a86b3",
   "metadata": {},
   "source": [
    "### 1. Importar bibliotecas e visualizar arquivo de referência."
   ]
  },
  {
   "cell_type": "code",
   "execution_count": 21,
   "id": "1e6f8657",
   "metadata": {},
   "outputs": [],
   "source": [
    "# Importar bibliotecas necessárias.\n",
    "import pandas as pd"
   ]
  },
  {
   "cell_type": "markdown",
   "id": "ef867e6c",
   "metadata": {},
   "source": [
    "### 2. Extrair e visualizar arquivo de referência."
   ]
  },
  {
   "cell_type": "code",
   "execution_count": null,
   "id": "64798ffc",
   "metadata": {},
   "outputs": [
    {
     "name": "stdout",
     "output_type": "stream",
     "text": [
      "Arquivo gerado com sucesso: C:\\Users\\henri\\OneDrive\\Pessoal\\Anotações\\GitHub\\FrontEnd\\Teste_Tecnico\\Teste_Tecnico\\dados_tratados.csv\n",
      "     customer_name              product_name  valor_desconto\n",
      "0   Maria Oliveira              Bateria 90Ah          120.34\n",
      "1   Jose Da Silva   Pastilha Freio Dianteira           45.46\n",
      "2        Ana Souza             Bateria 60Ah            68.39\n",
      "3  Maria Oliveira          Pastilha De Freio           21.32\n",
      "4   Maria Oliveira  Pastilha Freio Dianteira           54.70\n"
     ]
    }
   ],
   "source": [
    "# Ler arquivo de referência.\n",
    "dados = pd.read_csv(r'C:\\Users\\henri\\OneDrive\\Pessoal\\Anotações\\GitHub\\FrontEnd\\Teste_Tecnico\\Teste_Tecnico\\sales.csv')\n",
    "\n",
    "# Normalizar colunas \"customer_name\" e \"product_name\"\n",
    "dados['customer_name'] = dados['customer_name'].str.title()\n",
    "dados['product_name'] = dados['product_name'].str.title()\n",
    "\n",
    "# Formatação de colunas.\n",
    "dados['quantity'] = pd.to_numeric(dados['quantity']).astype('Int64')\n",
    "dados['price'] = pd.to_numeric(dados['price']).astype(float)\n",
    "dados['revenue'] = pd.to_numeric(dados['revenue']).astype(float)\n",
    "dados['discount'] = pd.to_numeric(dados['discount']).astype(float)\n",
    "\n",
    "# Criar coluna 'valor_desconto' com formatação decimal e duas casas decimais.\n",
    "dados['valor_desconto'] = dados['revenue'] * dados['discount']\n",
    "dados['valor_desconto'] = pd.to_numeric(dados['valor_desconto'].astype(float).round(2))\n",
    "\n",
    "# Exportar colunas em arquivo formato CSV.\n",
    "dados_tratados = dados[['customer_name', 'product_name', 'valor_desconto']].copy()\n",
    "dados_tratados.to_csv(r'C:\\Users\\henri\\OneDrive\\Pessoal\\Anotações\\GitHub\\FrontEnd\\Teste_Tecnico\\Teste_Tecnico\\dados_tratados.csv')\n",
    "\n",
    "# Mensagem de Log da operação.\n",
    "print(\"Arquivo gerado com sucesso:\", r'C:\\Users\\henri\\OneDrive\\Pessoal\\Anotações\\GitHub\\FrontEnd\\Teste_Tecnico\\Teste_Tecnico\\dados_tratados.csv')\n",
    "print(dados_tratados.head())\n",
    "\n"
   ]
  },
  {
   "cell_type": "code",
   "execution_count": null,
   "id": "f93b1641",
   "metadata": {},
   "outputs": [],
   "source": []
  }
 ],
 "metadata": {
  "kernelspec": {
   "display_name": "Python 3",
   "language": "python",
   "name": "python3"
  },
  "language_info": {
   "codemirror_mode": {
    "name": "ipython",
    "version": 3
   },
   "file_extension": ".py",
   "mimetype": "text/x-python",
   "name": "python",
   "nbconvert_exporter": "python",
   "pygments_lexer": "ipython3",
   "version": "3.13.0"
  }
 },
 "nbformat": 4,
 "nbformat_minor": 5
}
